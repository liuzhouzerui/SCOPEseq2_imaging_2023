{
  "cells": [
    {
      "cell_type": "markdown",
      "metadata": {
        "collapsed": true,
        "pycharm": {
          "name": "#%% md\n"
        }
      },
      "source": [
        "# import libraries"
      ]
    },
    {
      "cell_type": "code",
      "execution_count": null,
      "outputs": [],
      "source": "import os\nimport numpy as np\nimport pandas as pd\nimport seaborn as sns\nimport matplotlib as mpl\nimport matplotlib.pyplot as plt\nfrom matplotlib.backends.backend_pdf import PdfPages\n\nimport anndata\n\nfrom scopeseq.Bead_Intensity import BeadIntensity\nfrom scopeseq.Cell_Intensity import CellIntensity\nfrom scopeseq.Cell_Bead_Link import CellBeadLink\nfrom scopeseq.Image_Seq_Link import ImageSeqLink\nfrom scopeseq.Seq import CountMatrix\nfrom scopeseq.Cluster import Cluster\nfrom scopeseq.ScHPF import ScHPF\n\nfrom scopeseq.utils import pickle_dump, pickle_load, merge_anndata, subsample_cells_anndata, filter_cells_anndata\nfrom scopeseq.plot import plt_map\nfrom scopeseq.stats import fit_gaussian, fit_double_gaussian\nfrom scopeseq.clustering import cptt\n\n\n\"\"\"\nSCOPE-seq2 data processing\n\"\"\"\n",
      "metadata": {
        "collapsed": false,
        "pycharm": {
          "name": "#%%\n"
        }
      }
    },
    {
      "cell_type": "markdown",
      "source": "# parameters",
      "metadata": {
        "collapsed": false,
        "pycharm": {}
      }
    },
    {
      "cell_type": "code",
      "execution_count": null,
      "outputs": [],
      "source": "\nproject_folder \u003d \u0027OUTDIR\u0027\nprefix \u003d \u0027PREFIX\u0027\n\nlane \u003d 0 \ntotal_lanes \u003d 5\ncell_channels \u003d [\u0027GFP\u0027, \u0027TRITC\u0027, \u0027CY5\u0027] # fluorescence cell imaging channels\nbead_channels \u003d [\u0027bf\u0027, \u0027cy5\u0027, \u0027cy3\u0027] # fluorescence bead imaging channels\n",
      "metadata": {
        "collapsed": false,
        "pycharm": {
          "name": "#%%\n"
        }
      }
    },
    {
      "cell_type": "markdown",
      "source": [
        "# generate cell intensity"
      ],
      "metadata": {
        "collapsed": false,
        "pycharm": {}
      }
    },
    {
      "cell_type": "code",
      "execution_count": null,
      "outputs": [],
      "source": "\ncell_intensity \u003d CellIntensity(project_folder)\ncell_intensity.set_device(n_lane\u003dlane, total_lanes\u003dtotal_lanes, d_th\u003d40)\ncell_intensity.set_well_scan(well_channel\u003dcell_channels)\ncell_intensity.generate_well_intensity() # get average intensity of each microwell from ImageJ output\n\n# get fluorescence threshold of live and/or dead cell stain to identify wells with cells\nth_TRITC_well, fit_TRITC \u003d fit_double_gaussian(cell_intensity._well[\u0027TRITC\u0027][\u0027Mean\u0027],\n                            \u0027Calcein\u0027, project_folder + \u0027analysis/well.calcein.pdf\u0027,\n                            tail\u003d\u0027upper\u0027, var\u003d0.2)\nth_CY5_well, fit_CY5 \u003d fit_gaussian(cell_intensity._well[\u0027CY5\u0027][\u0027Mean\u0027],\n                            \u0027Annexin\u0027, project_folder + \u0027analysis/well.annexin.pdf\u0027,\n                            tail\u003d\u0027upper\u0027, var\u003d0.2)\ncell_intensity.cell_filter(filter_th\u003d{\u0027TRITC\u0027: th_TRITC_well, \u0027CY5\u0027:th_CY5_well})\n\n# write imaging coordinates of wells with cells into \u0027cell/sc_image.matrix.txt\u0027\ncell_intensity.generate_cell_intensity(cell_channel\u003dcell_channels)\n\n# write object\npickle_dump(cell_intensity, project_folder + \u0027cell_intensity.\u0027+str(lane)+\u0027.obj\u0027) \n# load object\ncell_intensity \u003d pickle_load(project_folder + \u0027cell_intensity.\u0027+str(lane)+\u0027.obj\u0027)\n\n",
      "metadata": {
        "collapsed": false,
        "pycharm": {
          "name": "#%%\n"
        }
      }
    },
    {
      "cell_type": "markdown",
      "source": "# optional: plot to check cell intensity",
      "metadata": {
        "collapsed": false,
        "pycharm": {}
      }
    },
    {
      "cell_type": "code",
      "execution_count": null,
      "outputs": [],
      "source": "image_matrix \u003d pd.read_csv(project_folder + \u0027cell/sc_image.matrix.txt\u0027, sep\u003d\u0027\\t\u0027, index_col\u003d0)\n\n# get cell fluorescence threshold based on distribution fitness\nth_TRITC_cell, fit_TRITC \u003d fit_double_gaussian(image_matrix[\u0027TRITC_Mean_norm\u0027],\n                            \u0027Calcein Normalized Mean\u0027, project_folder + \u0027analysis/cell.calcein.pdf\u0027,\n                            tail\u003d\u0027lower\u0027, var\u003d0.2)\nimage_matrix_live \u003d image_matrix[image_matrix[\u0027TRITC_Mean_norm\u0027]\u003eth_TRITC_cell]\nth_GFP_cell, fit_GFP \u003d fit_double_gaussian(image_matrix_live[\u0027GFP_Mean_norm\u0027],\n                        \u0027Caspase Normalized Mean\u0027, project_folder + \u0027analysis/cell.caspase.pdf\u0027,\n                        tail\u003d\u0027lower\u0027, var\u003d0.2)\nth_CY5_cell, fit_CY5 \u003d fit_double_gaussian(image_matrix_live[\u0027CY5_Mean_norm\u0027],\n                            \u0027Annexin Normalized Mean\u0027, project_folder + \u0027analysis/cell.annexin.pdf\u0027,\n                            tail\u003d\u0027lower\u0027, var\u003d0.2)\n\npdf_outfile \u003d project_folder + \u0027analysis/image.pdf\u0027\nwith PdfPages(pdf_outfile) as pdf:\n    plt.scatter(np.log2(image_matrix_live[\u0027GFP_Mean_norm\u0027]), np.log2(image_matrix_live[\u0027CY5_Mean_norm\u0027]), s\u003d1)\n    plt.xlabel(\u0027log2(Caspase Normalized Fluorescence)\u0027)\n    plt.ylabel(\u0027log2(Annexin Normalized Fluorescence)\u0027)\n    plt.title(\u0027Live cells\u0027)\n    plt.axis(\u0027square\u0027)\n    pdf.savefig(bbox_inches\u003d\u0027tight\u0027)\n    plt.close()\n",
      "metadata": {
        "collapsed": false,
        "pycharm": {
          "name": "#%%\n"
        }
      }
    },
    {
      "cell_type": "markdown",
      "source": [
        "# bead optical demultiplexing"
      ],
      "metadata": {
        "collapsed": false,
        "pycharm": {}
      }
    },
    {
      "cell_type": "code",
      "execution_count": null,
      "outputs": [],
      "source": "bead_intensity \u003d BeadIntensity(project_folder)\nbead_intensity.set_device(n_lane\u003dlane, total_lanes\u003dtotal_lanes, patches_per_lane\u003d6, first_border\u003d200, border_gap\u003d3350, d_th\u003d25)\nbead_intensity.set_demultiplexing(bead_channel\u003dbead_channels, round_number\u003d8,\n                                  barcode_ref_fn \u003d \u0027reference/192_8mer_seq_reference_2022.csv\u0027)\nbead_intensity.generate_bead_intensity() # get average intensity of each microwell from ImageJ output\nbead_intensity.probe_norm() # distribution normalization\n# optical demultiplexing using core-by-core method\nbead_intensity.obc_calling_core(no_signal_th\u003d2**10) \n# optical demultiplexing using correlation method\nbead_intensity.obc_calling_correlation(no_signal_th\u003d2**10) \n# write object\npickle_dump(bead_intensity, project_folder + \u0027bead_intensity.\u0027+str(lane)+\u0027.obj\u0027)\n# load object\nbead_intensity \u003d pickle_load(project_folder + \u0027bead_intensity.\u0027+str(lane)+\u0027.obj\u0027)\n",
      "metadata": {
        "collapsed": false,
        "pycharm": {
          "name": "#%%\n"
        }
      }
    },
    {
      "cell_type": "markdown",
      "source": [
        "# link bead to cell"
      ],
      "metadata": {
        "collapsed": false,
        "pycharm": {}
      }
    },
    {
      "cell_type": "code",
      "execution_count": null,
      "outputs": [],
      "source": "cell_bead_link \u003d CellBeadLink(project_folder)\ncell_bead_link.set_bead_cell(bead_fn\u003dproject_folder + \u0027bead_intensity.\u0027+str(lane)+\u0027.obj\u0027,\n                             cell_fn\u003dproject_folder + \u0027cell_intensity.\u0027+str(lane)+\u0027.obj\u0027,\n                             landmark_fn\u003dproject_folder + \u0027bead/intensity_data/UL_BR_\u0027+str(lane)+\u0027.csv\u0027)\ncell_bead_link.link_obc_cell()\n# write object\npickle_dump(cell_bead_link, project_folder + \u0027cell_bead_link.\u0027+str(lane)+\u0027.obj\u0027)\n# load object\ncell_bead_link \u003d pickle_load(project_folder + \u0027cell_bead_link.\u0027+str(lane)+\u0027.obj\u0027)\n",
      "metadata": {
        "collapsed": false,
        "pycharm": {
          "name": "#%%\n"
        }
      }
    },
    {
      "cell_type": "markdown",
      "source": [
        "# link imaging to sequencing"
      ],
      "metadata": {
        "collapsed": false,
        "pycharm": {}
      }
    },
    {
      "cell_type": "code",
      "execution_count": null,
      "outputs": [],
      "source": "image_seq_link \u003d ImageSeqLink(project_folder)\nimage_seq_link.set_image(image_fn\u003dproject_folder + \u0027cell_bead_link_.\u0027+str(lane)+\u0027.obj\u0027)\nimage_seq_link.set_sequencing(cell_id\u003dproject_folder + \u0027seq/\u0027+prefix+\u0027.edrops.matrix.hist.txt\u0027, use\u003d\u0027index\u0027) # matrix.hist.txt file is from SCOPE-seq2 scRNA-seq fastq processing pipeline\nimage_seq_link.seq_image_link(replace\u003d{18: 14, 19: 15, 20: 17, 21: 18, 22: 19, 23: 20}) # map bead patch index to illumina sequencing index {bead: seq}\n# write object\npickle_dump(image_seq_link, project_folder + \u0027image_seq_link.\u0027+str(lane)+\u0027.obj\u0027)\n# load object\nimage_seq_link \u003d pickle_load(project_folder + \u0027image_seq_link.\u0027+str(lane)+\u0027.obj\u0027)\n\n# optional\n# merge optial demultiplexing result from different methods \nimage_seq_link.merge(obj1\u003dproject_folder + \u0027image_seq_link_correlation.\u0027+str(lane)+\u0027.obj\u0027, obj2\u003dproject_folder + \u0027image_seq_link_core.\u0027+str(lane)+\u0027.obj\u0027)\n\n# generate linked single cell RNA-seq and imaging data\nimage_seq_link.generate_sc_measurements(seq_hist\u003dproject_folder + \u0027seq/\u0027+prefix+\u0027.edrops.matrix.hist.txt\u0027,\n                                        seq_matrix\u003dproject_folder + \u0027seq/\u0027+prefix+\u0027.edrops.matrix.txt\u0027)\n# write object\npickle_dump(image_seq_link, project_folder + \u0027image_seq_link.\u0027+str(lane)+\u0027.obj\u0027)\n",
      "metadata": {
        "collapsed": false,
        "pycharm": {
          "name": "#%%\n"
        }
      }
    },
    {
      "cell_type": "markdown",
      "source": "# cell hashing for sample demultiplexing",
      "metadata": {
        "collapsed": false,
        "pycharm": {}
      }
    },
    {
      "cell_type": "code",
      "execution_count": null,
      "outputs": [],
      "source": "from scopeseq.HTO import hto\n\n# hashtag qualtity check, and write sample name mapped table to project_folder+prefix+\u0027_HTO.demultiplexed.txt\u0027\nhtos \u003d [\u0027Hashtag1\u0027,\u0027Hashtag2\u0027,\u0027Hashtag3\u0027]\nsamples \u003d [\u0027DMSO\u0027,\u0027Etoposide\u0027,\u0027Panobinostat\u0027]\numap_file \u003d project_folder+\u0027seq/\u0027+prefix+\u0027.markers.dcorrSP.umap.txt\u0027\nhashtag \u003d hto(project_folder,prefix,htos,samples, umap_file) \n",
      "metadata": {
        "collapsed": false,
        "pycharm": {
          "name": "#%%\n"
        }
      }
    },
    {
      "cell_type": "markdown",
      "source": "# sequencing",
      "metadata": {
        "collapsed": false,
        "pycharm": {}
      }
    },
    {
      "cell_type": "code",
      "execution_count": null,
      "outputs": [],
      "source": "sample_name \u003d \u0027SAMPLE\u0027\nbatch_name \u003d \u0027BATCH\u0027\n\ncount_matrix \u003d CountMatrix(project_folder)\ncount_matrix.set_sequencing(matrix_file\u003dproject_folder + \u0027seq/\u0027+prefix+\u0027.edrops.matrix.txt\u0027,\n                            hist_file\u003dproject_folder + \u0027seq/\u0027+prefix+\u0027.edrops.matrix.hist.txt\u0027, # These files are from SCOPE-seq2 scRNA-seq fastq processing pipeline\n                            sample_index\u003d{sample_name:[14,15,17,18,19,20,21,22,23,25,27,28]},\n                            batch_index\u003d{batch_name: [14,15,17,18,19,20,21,22,23,25,27,28]}) # sequencing index\n\n# optional: if use cell hashing\ncount_matrix._cell_summary[\u0027sample\u0027]\u003dhashtag[\u0027sample\u0027].values\n\ncount_matrix.seq_summary()\n# generate anndata data storage. write loom file\ncount_matrix_anndata \u003d count_matrix.to_anndata()\n# read in loom file\ncount_matrix_anndata \u003d anndata.read_loom(project_folder + \u0027count_matrix.loom\u0027, obs_names\u003d\u0027\u0027, var_names\u003d\u0027\u0027)\n\n",
      "metadata": {
        "collapsed": false,
        "pycharm": {
          "name": "#%%\n"
        }
      }
    },
    {
      "cell_type": "markdown",
      "source": "# embedding, clustering",
      "metadata": {
        "pycharm": {
          "metadata": false
        }
      }
    },
    {
      "cell_type": "code",
      "execution_count": null,
      "outputs": [],
      "source": "# using diffexcluster pipeline\ncluster \u003d Cluster(project_folder)\ncluster.set_cluster(mtx\u003dproject_folder + \u0027count_matrix.loom\u0027,\n                    pg\u003dproject_folder + \u0027seq/\u0027+prefix+\u0027.markers.dcorrSP.pg.txt\u0027,\n                    umap\u003dproject_folder + \u0027seq/\u0027+prefix+\u0027.markers.dcorrSP.umap.txt\u0027) # These files are from diffexcluster processing pipeline\n# link image\nfor i in samples+[\u0027Doublet\u0027]:\n    cluster.link_image(image_file\u003dproject_folder + \u0027analysis/sc_image.matrix.linked.txt\u0027, sample\u003di, batch\u003dbatch_name)\n\n\n# image\n\n# get the fluorescence threshold from vehicle control\nneg_control \u003d cluster._anndata[(cluster._anndata.obs[\u0027sample\u0027]\u003d\u003d\u0027DMSO\u0027)]\nth_calcein, fit_calcein \u003d fit_gaussian(neg_control[\u0027TRITC_Mean_norm\u0027],\n                            \u0027calcein\u0027, project_folder + \u0027analysis/neg.calcein.pdf\u0027,\n                            tail\u003d\u0027lower\u0027, var\u003d0.2)\nth_caspase, fit_caspase \u003d fit_gaussian(neg_control[\u0027GFP_Mean_norm\u0027],\n                            \u0027caspase\u0027, project_folder + \u0027analysis/neg.caspase.pdf\u0027,\n                            tail\u003d\u0027upper\u0027, var\u003d0.2)\nth_annexin, fit_annexin \u003d fit_gaussian(neg_control[\u0027CY5_Mean_norm\u0027],\n                            \u0027annexin\u0027, project_folder + \u0027analysis/neg.annexin.pdf\u0027,\n                            tail\u003d\u0027upper\u0027, var\u003d0.2)\n\n# assign cell status\ncluster._anndata.obs[\u0027cell_status\u0027] \u003d None\ncluster._anndata.obs[\u0027cell_status\u0027][((cluster._image[\u0027TRITC_Mean_norm\u0027]\u003cth_calcein)).values] \u003d \u0027dead\u0027\ncluster._anndata.obs[\u0027cell_status\u0027][((cluster._image[\u0027TRITC_Mean_norm\u0027]\u003eth_calcein)).values] \u003d \u0027viable\u0027\ncluster._anndata.obs[\u0027cell_status\u0027][((cluster._image[\u0027GFP_Mean_norm\u0027]\u003eth_caspase) \u0026\n                                    (cluster._image[\u0027CY5_Mean_norm\u0027] \u003c th_annexin) \u0026\n                                    (cluster._image[\u0027TRITC_Mean_norm\u0027]\u003eth_calcein)).values]\u003d \u0027apoptosis_1\u0027\ncluster._anndata.obs[\u0027cell_status\u0027][((cluster._image[\u0027GFP_Mean_norm\u0027]\u003eth_caspase) \u0026\n                                    (cluster._image[\u0027CY5_Mean_norm\u0027] \u003e th_annexin) \u0026\n                                    (cluster._image[\u0027TRITC_Mean_norm\u0027]\u003eth_calcein)).values] \u003d \u0027apoptosis_2\u0027\ncluster._anndata.obs[\u0027cell_status\u0027][((cluster._image[\u0027GFP_Mean_norm\u0027]\u003cth_caspase) \u0026\n                                    (cluster._image[\u0027CY5_Mean_norm\u0027] \u003e th_annexin) \u0026\n                                    (cluster._image[\u0027TRITC_Mean_norm\u0027]\u003eth_calcein)).values] \u003d \u0027apoptosis_3\u0027\ncluster._anndata.obs[cell_channels] \u003d cluster._image[[x+\u0027_Mean_norm\u0027 for x in cell_channels]].values\n\ncluster.to_anndata() # write obs information to annotation.txt, and anndata object to count_matrix.loom\n# write object\npickle_dump(cluster, project_folder + \u0027cluster.obj\u0027)\n\n# plot umap embedding colored by imaging phenotypes\npdf_outfile \u003d project_folder + \u0027analysis/umap_image.pdf\u0027\nwith PdfPages(pdf_outfile) as pdf:\n    for i in cell_channels:\n        plt.scatter(cluster._anndata.obsm[\u0027umap_emb\u0027][:,0], cluster._anndata.obsm[\u0027umap_emb\u0027][:,1],\n                    c\u003dnp.log2(data[i+\u0027_Mean_norm\u0027].astype(\u0027float\u0027)), s\u003d3, cmap\u003d\u0027coolwarm\u0027)\n        plt.colorbar()\n        plt.xlabel(\u0027UMAP 1\u0027)\n        plt.ylabel(\u0027UMAP 2\u0027)\n        plt.title(\u0027colored by log2(\u0027+i+\u0027 normalized intensity)\u0027)\n        pdf.savefig(bbox_inches\u003d\u0027tight\u0027)\n        plt.close()\n\n    plt_map(pdf, x\u003dcluster._anndata.obsm[\u0027umap_emb\u0027], name\u003d\u0027colored by cell status\u0027,\n                color\u003dmpl.cm.tab10.colors, group\u003dcluster._anndata.obs[\u0027cell_status\u0027], order\u003d[\u0027live\u0027,\u0027apoptosis_1\u0027,\u0027apoptosis_2\u0027,\u0027apoptosis_3\u0027,\u0027dead\u0027],\n                t\u003d\u0027category\u0027, s\u003d5)\n\n\n\"\"\"\nCombind analysis of multiple SOCPE-seq2 experiments\nAnd some example analysis functions: malignant cell identificaiton, cell annotation. \n\"\"\"\n",
      "metadata": {
        "collapsed": false,
        "pycharm": {
          "name": "#%%\n"
        }
      }
    },
    {
      "cell_type": "markdown",
      "source": "# project",
      "metadata": {
        "pycharm": {
          "metadata": false
        }
      }
    },
    {
      "cell_type": "code",
      "execution_count": null,
      "outputs": [],
      "source": "project_folder \u003d \u0027OUTDIR\u0027\ndatasets \u003d pd.read_csv(project_folder+\u0027datasets.txt\u0027, sep\u003d\u0027\\t\u0027,dtype\u003d\u0027str\u0027)\n\n# parameters\nbatch_order \u003d [\u00270520\u0027,\u00270608\u0027]\nsample_order \u003d [\u0027DMSO\u0027, \u0027Etoposide\u0027, \u0027Panobinostat\u0027, \u0027Topotecan\u0027, \u0027Givinostat\u0027]\nbatch_sample_order \u003d [\u002720220520_\u0027+s for s in [\u0027DMSO\u0027,\u0027Etoposide\u0027,\u0027Panobinostat\u0027]] + [\u002720220608_\u0027+s for s in [\u0027DMSO\u0027,\u0027Topotecan\u0027,\u0027Givinostat\u0027]]\nstatus_order \u003d [\u0027viable\u0027,\u0027apoptosis_1\u0027,\u0027apoptosis_2\u0027,\u0027apoptosis_3\u0027]\ncluster_color \u003d mpl.cm.tab10.colors\nbatch_color \u003d  mpl.cm.tab10.colors[8:10]\nsample_color \u003d mpl.cm.Dark2.colors[0:5]\nstatus_color \u003d mpl.cm.Set2.colors[7:8]+mpl.cm.Paired.colors[7:8]+mpl.cm.Paired.colors[9:10]+mpl.cm.Paired.colors[11:12]\n\n",
      "metadata": {
        "pycharm": {
          "metadata": false,
          "name": "#%%\n"
        }
      }
    },
    {
      "cell_type": "markdown",
      "source": "# combine count matrix and cell annotations",
      "metadata": {
        "pycharm": {
          "metadata": false
        }
      }
    },
    {
      "cell_type": "code",
      "execution_count": null,
      "outputs": [],
      "source": "#subsample vehicle control cells\ncombined \u003d merge_anndata(dirs\u003ddatasets[\u0027Path\u0027],output_dir\u003dproject_folder)\ncombined_DMSO \u003d subsample_cells_anndata(combined[combined.obs[\u0027sample\u0027]\u003d\u003d\u0027DMSO\u0027], output_dir\u003dproject_folder)\n\n# scHPF on subsampled vehicle control cells to find variable genes for downstream analysis\n# please reference to the scHPF method\nschpf \u003d ScHPF(project_folder)\nschpf.set_schpf(mtx\u003dproject_folder + \u0027schpf/filtered.mtx\u0027, genes\u003dproject_folder + \u0027schpf/genes.txt\u0027,\n                schpf_joblib\u003d project_folder + \u0027schpf/\u0027+prefix+\u0027.scHPF_K10_b0_5trials.joblib\u0027)\nschpf.set_cell_annotation(annotation\u003dproject_folder + \u0027annotation_sub.txt\u0027)\n# identify batch-specific/HSP/Ribosomal factors, and remove them from marker gene lists\nschpf.plt_cell_score()\nschpf.set_batch_factor(batch_factor\u003d[0,2,9])\n# identify top 100 genes of each key factors as variable marker genes\nschpf.marker_genes()\n\n# filter dataset based on marker genes expression and remove doublets\ncombined_single \u003d filter_cells_anndata(combined, marker_file\u003dproject_folder+\u0027schpf/marker_genes.txt\u0027)\ncombined_single.write_loom(project_folder + \u0027count_matrix.all_single.loom\u0027)\n# write normalized anndata\nfrom scipy import sparse\nmatrix_norm \u003d cptt(combined_single.X.todense().T)\nadata_norm \u003d anndata.AnnData(sparse.csr_matrix(matrix_norm.T), obs \u003d combined_single.obs, var\u003dcombined_single.var)\nadata_norm.write_loom(project_folder + \u0027count_matrix.all_single.norm.loom\u0027)\n\n# run clusterdiffex on filtered dataset.\ncombined_single.obsm[\u0027umap_emb\u0027] \u003d pd.read_csv(project_folder+\u0027seq/\u0027+prefix+\u0027.fmarkers.dcorrSP.umap.txt\u0027, sep\u003d\u0027\\t\u0027,header\u003dNone).values\ncombined_single.obs[\u0027pgs\u0027] \u003d pd.read_csv(project_folder+\u0027seq/\u0027+prefix+\u0027.fmarkers.dcorrSP.pg.txt\u0027, sep\u003d\u0027\\t\u0027,header\u003dNone).values\n# optional merge cell clusters\npgs \u003d [0,1,2,3,4,5,6,7,8,9,10,11]\npgs_after \u003d [2,0,1,0,0,0,0,0,0,0,4,3]\ncombined_single.obs[\u0027pgs\u0027] \u003d map(combined_single.obs[\u0027pgs_all\u0027],pgs,pgs_after)\n\n# basic plot\npdf_outfile \u003d project_folder + \u0027all.umap.pdf\u0027\nwith PdfPages(pdf_outfile) as pdf:\n    plt_map(pdf, x\u003dcombined_single.obsm[\u0027umap_emb\u0027], name\u003d\u0027batch\u0027,\n            color\u003dbatch_color, group\u003dcombined_single.obs[\u0027batch\u0027],\n            order\u003dbatch_order,\n            t\u003d\u0027category\u0027, s\u003d3)\n    plt_map(pdf, x\u003dcombined_single.obsm[\u0027umap_emb\u0027], name\u003d\u0027sample\u0027,\n            color\u003dsample_color, group\u003dcombined_single.obs[\u0027sample\u0027],\n            order\u003dsample_order,\n            t\u003d\u0027category\u0027, s\u003d3)\n    for i in range(len(sample_order)):\n        x \u003d combined_single[combined_single.obs[\u0027sample\u0027]\u003d\u003dsample_order[i]].obsm[\u0027umap_emb\u0027]\n        plt.scatter(x[:,0],x[:,1],color\u003dsample_color[i], s\u003d3)\n        plt.colorbar()\n        plt.title\u003dsample_order[i]\n        plt.xlabel(\u0027\u0027)\n        plt.ylabel(\u0027\u0027)\n        pdf.savefig(bbox_inches\u003d\u0027tight\u0027)\n        plt.close()\n    plt_map(pdf, x\u003dcombined_single.obsm[\u0027umap_emb\u0027], name\u003d\u0027pgs\u0027,\n            color\u003dcluster_color, group\u003dcombined_single.obs[\u0027pgs\u0027],\n            t\u003d\u0027category\u0027, s\u003d3)\n    for i in range(len(sample_order)):\n        x \u003d combined_single[combined_single.obs[\u0027sample\u0027]\u003d\u003dsample_order[i]]\n        plt_map(pdf, x\u003dx.obsm[\u0027umap_emb\u0027], name\u003d\u0027pgs_\u0027+sample_order[i],\n            color\u003dcluster_color, group\u003dx.obs[\u0027pgs\u0027],\n            t\u003d\u0027category\u0027, s\u003d3)\n",
      "metadata": {
        "pycharm": {
          "metadata": false,
          "name": "#%%\n"
        }
      }
    },
    {
      "cell_type": "markdown",
      "source": "# examine lineage marker gene expression and signature score of cell clusters",
      "metadata": {
        "pycharm": {
          "metadata": false
        }
      }
    },
    {
      "cell_type": "code",
      "execution_count": null,
      "outputs": [],
      "source": "from scopeseq.utils import load_genesets_fromtxt\nfrom scopeseq.clustering import neftel_subtype\n\nadata_norm \u003d anndata.read_loom(project_folder + \u0027count_matrix.all_single.norm.loom\u0027, obs_names\u003d\u0027\u0027, var_names\u003d\u0027\u0027)\nadata_norm.obs \u003d combined_single.obs\nadata_norm \u003d adata_norm[adata_norm.obs[\u0027sample\u0027]\u003d\u003d\u0027DMSO\u0027]\nmatrix_norm \u003d adata_norm.X.todense().T\n\n# marker gene expression\nfrom scipy.stats import zscore\ngene \u003d [\u0027OLIG1\u0027,\u0027OLIG2\u0027,\u0027DLL3\u0027,\u0027DCX\u0027,\u0027APOE\u0027,\u0027CLU\u0027,\u0027SPARC\u0027,\u0027CD44\u0027,\u0027ANXA2\u0027,\u0027PCNA\u0027,\u0027RRM2\u0027,\u0027CCNE2\u0027,\u0027CCNB1\u0027,\u0027CDC20\u0027,\u0027AURKA\u0027]\nmatrix_norm_marker \u003d pd.DataFrame()\nfor i in gene:\n    exp_all \u003d matrix_norm[(adata_norm.var[\u0027Gene\u0027]\u003d\u003di).values,:].tolist()[0]\n    matrix_norm_marker[i] \u003d exp_all\nmatrix_norm_marker_zscore \u003d pd.DataFrame(zscore(matrix_norm_marker, axis\u003d0),index\u003dmatrix_norm_marker.index, columns\u003dmatrix_norm_marker.columns)\nmatrix_norm_marker[\u0027pgs\u0027] \u003d adata_norm.obs[\u0027pgs_all\u0027].values\nmatrix_norm_marker[\u0027batch\u0027] \u003d adata_norm.obs[\u0027batch\u0027].values\nmatrix_norm_marker_zscore[\u0027pgs\u0027] \u003d adata_norm.obs[\u0027pgs_all\u0027].values\nmatrix_norm_marker_zscore[\u0027batch\u0027] \u003d adata_norm.obs[\u0027batch\u0027].values\nmatrix_norm_marker_mean \u003d matrix_norm_marker.groupby([\u0027pgs\u0027,\u0027batch\u0027]).mean()\nmatrix_norm_marker_mean_zscore \u003d matrix_norm_marker_zscore.groupby([\u0027pgs\u0027,\u0027batch\u0027]).mean()\n\npdf_outfile \u003d project_folder + \u0027gene.pgs.heatmap.pdf\u0027\nwith PdfPages(pdf_outfile) as pdf:\n    p_color \u003d [cluster_color[x] for x in [0,0,1,1,2,2,3,3,4,4]]\n    b_color \u003d [batch_color[x] for x in [0,1,0,1,0,1,0,1,0,1]]\n    color \u003d pd.DataFrame({\u0027pgs\u0027:p_color, \u0027batch\u0027:b_color},index\u003dmatrix_norm_marker_mean.index)\n    sns.clustermap(matrix_norm_marker_mean.T, cmap\u003d\u0027Reds\u0027,cbar_kws\u003d{\u0027label\u0027:\u0027Averaged normalized Expression\u0027},\n                   row_cluster\u003dFalse, col_cluster\u003dFalse,\n                   col_colors\u003dcolor, vmin\u003d0, vmax\u003d3)\n    plt.xlabel(\u0027\u0027)\n    plt.ylabel(\u0027\u0027)\n    pdf.savefig(bbox_inches\u003d\u0027tight\u0027)\n    plt.close()\n\n    p_color \u003d [cluster_color[x] for x in [0,0,1,1,2,2,3,3,4,4]]\n    b_color \u003d [batch_color[x] for x in [0,1,0,1,0,1,0,1,0,1]]\n    color \u003d pd.DataFrame({\u0027pgs\u0027:p_color, \u0027batch\u0027:b_color}, index\u003dmatrix_norm_marker_mean_zscore.index)\n    sns.clustermap(pd.DataFrame(matrix_norm_marker_mean_zscore.T), cmap\u003d\u0027coolwarm\u0027,cbar_kws\u003d{\u0027label\u0027:\u0027zscore(Averaged normalized Expression)\u0027},\n                   row_cluster\u003dFalse, col_cluster\u003dFalse,\n                   col_colors\u003dcolor, vmin\u003d-0.4, vmax\u003d0.4)\n    plt.xlabel(\u0027\u0027)\n    plt.ylabel(\u0027\u0027)\n    pdf.savefig(bbox_inches\u003d\u0027tight\u0027)\n    plt.close()\n\n\n# gene signatures from Neftel et. al. 2019\ngenesets_infile \u003d \u0027reference/tumor_hetero_module_genesets.txt\u0027\ngenesets_dict \u003d load_genesets_fromtxt(genesets_infile)\n\ngroup\u003d\u0027pgs\u0027\nb\u003d100\nhetero_2D, SC_all \u003d neftel_subtype(adata_norm, genesets_infile, group\u003dgroup, b\u003db)\nhetero_2D.to_csv(project_folder+\u0027ref.2D.\u0027+group+\u0027.\u0027+str(b)+\u0027.txt\u0027,sep\u003d\u0027\\t\u0027,header\u003dFalse,index\u003dFalse)\nSC_all.to_csv(project_folder+\u0027ref.SCall.\u0027+group+\u0027.\u0027+str(b)+\u0027.txt\u0027,sep\u003d\u0027\\t\u0027,index\u003dFalse)\n\nadata_norm.obsm[\u0027hetero_2D\u0027] \u003d hetero_2D.values\nadata_norm.obsm[\u0027SC_all\u0027] \u003d SC_all.values\nadata_norm.obs[SC_all.columns] \u003d SC_all.values\nadata_norm.obs[\u0027MES\u0027] \u003d adata_norm.obs[[\u0027MES1\u0027,\u0027MES2\u0027]].max(axis\u003d1)\nadata_norm.obs[\u0027NPC\u0027] \u003d adata_norm.obs[[\u0027NPC1\u0027,\u0027NPC2\u0027]].max(axis\u003d1)\n\npdf_outfile \u003d project_folder + \u0027signature.pgs.heatmap.pdf\u0027\nwith PdfPages(pdf_outfile) as pdf:\n    matrix_marker_mean \u003d adata_norm.obs[[\u0027MES\u0027,\u0027AC\u0027,\u0027OPC\u0027,\u0027NPC\u0027,\u0027G1/S\u0027,\u0027G2/M\u0027,\u0027pgs\u0027,\u0027batch\u0027]].groupby([\u0027pgs\u0027,\u0027batch\u0027]).mean()\n    p_color \u003d [cluster_color[x] for x in [0,0,1,1,2,2,3,3,4,4]]\n    b_color \u003d [batch_color[x] for x in [0,1,0,1,0,1,0,1,0,1]]\n    color \u003d pd.DataFrame({\u0027pgs\u0027:p_color, \u0027batch\u0027:b_color},index\u003dmatrix_marker_mean.index)\n    sns.clustermap(matrix_marker_mean.T, cmap\u003d\u0027coolwarm\u0027,cbar_kws\u003d{\u0027label\u0027:\u0027Average meta-module score\u0027},\n                   row_cluster\u003dFalse, col_cluster\u003dFalse,\n                   col_colors\u003dcolor,\n                   vmin\u003d-0.4, vmax\u003d0.4)\n    plt.xlabel(\u0027\u0027)\n    plt.ylabel(\u0027\u0027)\n    pdf.savefig(bbox_inches\u003d\u0027tight\u0027)\n    plt.close()\n\n",
      "metadata": {
        "pycharm": {
          "metadata": false,
          "name": "#%%\n"
        }
      }
    },
    {
      "cell_type": "markdown",
      "source": "# combine image",
      "metadata": {
        "pycharm": {
          "metadata": false
        }
      }
    },
    {
      "cell_type": "code",
      "execution_count": null,
      "outputs": [],
      "source": "# batch normalization\n# calculate mean of negative control cells (DMSO \u0026 live) of each sample\ncell_channels \u003d [\u0027GFP\u0027,\u0027TRITC\u0027,\u0027CY5\u0027]\nneg_mean \u003d combined_single.obs[[\u0027batch\u0027,\u0027sample\u0027,\u0027cell_status\u0027]+channels].groupby([\u0027batch\u0027,\u0027sample\u0027,\u0027cell_status\u0027]).mean()\nneg_mean \u003d neg_mean.xs(\u0027DMSO\u0027, level\u003d\u0027sample\u0027).xs(\u0027live\u0027, level\u003d\u0027cell_status\u0027)\n# normalize ctrl mean to the lowest in each fluorescence channel\nneg_mean_ratio \u003d neg_mean/neg_mean.min()\ncombined_single.obs[[s + \u0027_batchnorm\u0027 for s in channels]] \u003d \\\n    combined_single.obs.apply(lambda x: x[channels]/neg_mean_ratio.loc[x[\u0027batch\u0027]], axis\u003d1)\n\n# get threshold\nneg_control \u003d combined_single[(combined_single.obs[\u0027sample\u0027]\u003d\u003d\u0027DMSO\u0027)\u0026(combined_single.obs[\u0027cell_status\u0027]!\u003d\u0027dead\u0027)]\nth_caspase, fit_caspase \u003d fit_gaussian(neg_control.obs[\u0027GFP_batchnorm\u0027],\n                            \u0027Caspase 3/7 Normalized Mean\u0027, project_folder + \u0027image/neg.caspase.pdf\u0027,\n                            tail\u003d\u0027upper\u0027, var\u003d0.2)\nth_annexin, fit_annexin \u003d fit_gaussian(neg_control.obs[\u0027CY5_batchnorm\u0027],\n                            \u0027Annexin V Normalized Mean\u0027, project_folder + \u0027image/neg.annexin.pdf\u0027,\n                            tail\u003d\u0027upper\u0027, var\u003d0.2)\n\n# assign cell status\ncombined_single.obs[\u0027cell_status_merge\u0027] \u003d None\ncombined_single.obs[\u0027cell_status_merge\u0027][((combined_single.obs[\u0027cell_status\u0027]\u003d\u003d\u0027dead\u0027)).values] \u003d \u0027dead\u0027\ncombined_single.obs[\u0027cell_status_merge\u0027][((combined_single.obs[\u0027cell_status\u0027]!\u003d\u0027dead\u0027) \u0026\n                                    (combined_single.obs[\u0027cell_status\u0027]!\u003d\u0027None\u0027)).values] \u003d \u0027viable\u0027\ncombined_single.obs[\u0027cell_status_merge\u0027][((combined_single.obs[\u0027GFP_batchnorm\u0027]\u003eth_caspase) \u0026\n                                    (combined_single.obs[\u0027CY5_batchnorm\u0027] \u003c th_annexin) \u0026\n                                    (combined_single.obs[\u0027cell_status\u0027]!\u003d\u0027dead\u0027)).values]\u003d \u0027apoptosis_1\u0027\ncombined_single.obs[\u0027cell_status_merge\u0027][((combined_single.obs[\u0027GFP_batchnorm\u0027]\u003eth_caspase) \u0026\n                                    (combined_single.obs[\u0027CY5_batchnorm\u0027] \u003e th_annexin) \u0026\n                                    (combined_single.obs[\u0027cell_status\u0027]!\u003d\u0027dead\u0027)).values] \u003d \u0027apoptosis_2\u0027\ncombined_single.obs[\u0027cell_status_merge\u0027][((combined_single.obs[\u0027GFP_batchnorm\u0027]\u003cth_caspase) \u0026\n                                    (combined_single.obs[\u0027CY5_batchnorm\u0027] \u003e th_annexin) \u0026\n                                    (combined_single.obs[\u0027cell_status\u0027]!\u003d\u0027dead\u0027)).values] \u003d \u0027apoptosis_3\u0027\n\ncombined_single.obs.to_csv(project_folder+\u0027annotation.image.txt\u0027,sep\u003d\u0027\\t\u0027,index\u003dFalse)\n",
      "metadata": {
        "pycharm": {
          "metadata": false,
          "name": "#%%\n"
        }
      }
    },
    {
      "cell_type": "markdown",
      "source": "# plot batch normalized imaging phenotypes",
      "metadata": {
        "pycharm": {
          "metadata": false
        }
      }
    },
    {
      "cell_type": "code",
      "execution_count": null,
      "outputs": [],
      "source": "combined_image_filter \u003d combined_single[(combined_single.obs[\u0027cell_status\u0027]!\u003d\u0027None\u0027)\u0026(combined_single.obs[\u0027cell_status\u0027]!\u003d\u0027dead\u0027)]\n\npdf_outfile \u003d project_folder + \u0027image/image.pdf\u0027\nwith PdfPages(pdf_outfile) as pdf:\n    sns.scatterplot(x\u003dnp.log2(combined_image_filter.obs[\u0027GFP_batchnorm\u0027]), y\u003dnp.log2(combined_image_filter.obs[\u0027CY5_batchnorm\u0027]),\n                    hue\u003dcombined_image_filter.obs[\u0027sample\u0027], hue_order\u003dsample_order, palette\u003dsample_color,\n                    s\u003d3, linewidth\u003d0)\n    plt.xlabel(\u0027log2(Caspase 3/7 Normalized Mean)\u0027)\n    plt.ylabel(\u0027log2(Annexin V Normalized Mean)\u0027)\n    plt.axis(\u0027square\u0027)\n    pdf.savefig(bbox_inches\u003d\u0027tight\u0027)\n    plt.close()\n\n    sns.scatterplot(x\u003dnp.log2(combined_image_filter.obs[\u0027GFP_batchnorm\u0027]), y\u003dnp.log2(combined_image_filter.obs[\u0027CY5_batchnorm\u0027]),\n                    hue\u003dcombined_image_filter.obs[\u0027cell_status_merge\u0027], hue_order\u003dstatus_order, palette\u003dstatus_color,\n                    s\u003d3, linewidth\u003d0)\n    plt.xlabel(\u0027log2(Caspase 3/7 Normalized Mean)\u0027)\n    plt.ylabel(\u0027log2(Annexin V Normalized Mean)\u0027)\n    plt.axis(\u0027square\u0027)\n    pdf.savefig(bbox_inches\u003d\u0027tight\u0027)\n    plt.close()\n\npdf_outfile \u003d project_folder + \u0027image/cell_status.pdf\u0027\nwith PdfPages(pdf_outfile) as pdf:\n    plt_map(pdf, x\u003dcombined_image_filter.obsm[\u0027umap_emb\u0027], name\u003d\u0027sample\u0027,\n            color\u003dsample_color, group\u003dcombined_image_filter.obs[\u0027sample\u0027].values, order\u003dsample_order,\n            t\u003d\u0027category\u0027, s\u003d5)\n    plt_map(pdf, x\u003dcombined_image_filter.obsm[\u0027umap_emb\u0027], name\u003d\u0027pgs\u0027,\n            color\u003dcluster_color, group\u003dcombined_image_filter.obs[\u0027pgs\u0027].values,\n            t\u003d\u0027category\u0027, s\u003d5)\n    plt_map(pdf, x\u003dcombined_image_filter.obsm[\u0027umap_emb\u0027], name\u003d\u0027cell_status_merge\u0027,\n            color\u003dstatus_color, group\u003dcombined_image_filter.obs[\u0027cell_status_merge\u0027].values, order\u003dstatus_order,\n            t\u003d\u0027category\u0027, s\u003d5)\n    for i in range(len(sample_order)):\n        x \u003d combined_image_filter[combined_image_filter.obs[\u0027sample\u0027]\u003d\u003dsample_order[i]]\n        plt_map(pdf, x\u003dx.obsm[\u0027umap_emb\u0027], name\u003d\u0027cell_status_merge_\u0027+sample_order[i],\n            color\u003dstatus_color, group\u003dx.obs[\u0027cell_status_merge\u0027].values, order\u003dstatus_order,\n            t\u003d\u0027category\u0027, s\u003d5)\n\n    plt_map(pdf, x\u003dcombined_image_filter.obsm[\u0027umap_emb\u0027], name\u003d\u0027Calcein\u0027,\n                color\u003dnp.log2(combined_image_filter.obs[\u0027TRITC_batchnorm\u0027]),\n                cmap\u003d\u0027Reds\u0027, t\u003d\u0027float\u0027, s\u003d5)\n    plt_map(pdf, x\u003dcombined_image_filter.obsm[\u0027umap_emb\u0027], name\u003d\u0027Caspase 3/7\u0027,\n                color\u003dnp.log2(combined_image_filter.obs[\u0027GFP_batchnorm\u0027]),\n                cmap\u003d\u0027cool\u0027, t\u003d\u0027float\u0027, vmin\u003d6, vmax\u003d9, s\u003d5)\n    plt_map(pdf, x\u003dcombined_image_filter.obsm[\u0027umap_emb\u0027], name\u003d\u0027Annexin V\u0027,\n                color\u003dnp.log2(combined_image_filter.obs[\u0027CY5_batchnorm\u0027]),\n                cmap\u003d\u0027cool\u0027, t\u003d\u0027float\u0027, vmin\u003d8, vmax\u003d11, s\u003d5)\n\n    data \u003d pd.crosstab(index\u003d[combined_image_filter.obs[\u0027sample\u0027],combined_image_filter.obs[\u0027pgs\u0027]],\n                        columns\u003dcombined_image_filter.obs[\u0027cell_status_merge\u0027], normalize\u003d\u0027index\u0027)\n    data \u003d data[status_order]\n    data \u003d data.loc[sample_order]\n    data.plot(kind\u003d\u0027bar\u0027, stacked\u003dTrue,color\u003dstatus_color)\n    plt.legend(loc\u003d\u0027center left\u0027, bbox_to_anchor\u003d(1.2, 0.5))\n    plt.xlabel(\"Sample_cluster\")\n    plt.ylabel(\"Proportion\")\n    pdf.savefig(bbox_inches\u003d\u0027tight\u0027)\n    plt.close()\n    \n\n",
      "metadata": {
        "pycharm": {
          "metadata": false,
          "name": "#%%\n"
        }
      }
    }
  ],
  "metadata": {
    "kernelspec": {
      "display_name": "Python 3",
      "language": "python",
      "name": "python3"
    },
    "language_info": {
      "codemirror_mode": {
        "name": "ipython",
        "version": 2
      },
      "file_extension": ".py",
      "mimetype": "text/x-python",
      "name": "python",
      "nbconvert_exporter": "python",
      "pygments_lexer": "ipython2",
      "version": "2.7.6"
    }
  },
  "nbformat": 4,
  "nbformat_minor": 0
}